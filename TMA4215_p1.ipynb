{
 "cells": [
  {
   "cell_type": "markdown",
   "metadata": {},
   "source": [
    "# Project 1: \n",
    "Candidatenumber: 10032\n",
    "## Introduction\n",
    "In this project I will look into how one could solve, or find a good enough solution to undetermined linear systems. These systems pop up everywhere in science, economics and other fields of mathematics, and would be very hard to get any use out of if it wasn't for the aid of computers. In task 1 and 2 I will generally look at different techniques for finding use (either solving or finding a solution that is close enough in the case where the system has no solution) in these equations, and which ones might be the most effective for a given problem. In task 3, things will become a little more *hands on*, and I attempt to seperate a merged image file into two seperate files containing the information of each of the images in the merged one."
   ]
  },
  {
   "cell_type": "markdown",
   "metadata": {},
   "source": [
    "### Task 1:\n",
    "In this task I will look into how one could find a unique solution by putting additional constraints on the problem, and compare my own algorithm (using QR decomposition) with numPy's linear system solver.\n",
    "\n",
    "#### a)\n",
    "Letting $A\\in \\mathbb{R}^{m\\times n}, \\mathbf{x} \\in \\mathbb{R}^n, \\mathbf{y} \\in \\mathbb{R}^m$ we wish to solve the system of linear equations of the form: $A \\mathbf{x} = \\mathbf{y}$\n",
    "\n",
    "Looking at the special case of $m,n = 2,3$ we will investigate which properties $A$ and $\\mathbf{y}$ must have in order for the  matrix equation to have no solution or infinitly many.\n",
    "\n",
    "\n",
    "At first glance it might seem impossible for the system to have no solution. All $y \\in \\mathbb{R}$ can be expressed as a sum; $y = \\sum a_i x_i$ for some $a_i, x_i \\in \\mathbb{R}, i = 1,2,3$. The only way this equality doesn@t hold is for $a_i = 0, i = 1,2,3...$ and $\\mathbf{y} \\neq 0$, i.e. A must have a row of zeros while the equivalent y is non zero. An example is:\n",
    "$$\n",
    "A = \n",
    "\\left(\\begin{array}{ccc} \n",
    "a & b & c\\\\\n",
    "0 & 0 & 0\n",
    "\\end{array}\\right)\n",
    "\\textrm{,      } y = \n",
    "\\left(\\begin{array}{c} \n",
    "d\\\\ \n",
    "1\n",
    "\\end{array}\\right)\n",
    "$$ \n",
    "\n",
    "\n",
    "A system of linear equations has infinitly many solutions if $rank(A) > m$, making one of the restrictions on the system redundant. If the system has more variables than non-zero equations, you can always tune the coefficents of the other basis-elements to fit a given one. An example is:\n",
    "\n",
    "$$\n",
    "A = \n",
    "\\left(\\begin{array}{ccc} \n",
    "a & b & c\\\\\n",
    "d & e & f\n",
    "\\end{array}\\right)\n",
    "\\textrm{,      } y = \n",
    "\\left(\\begin{array}{c} \n",
    "0\\\\ \n",
    "0\n",
    "\\end{array}\\right)\n",
    "$$\n",
    "\n",
    "\n",
    "#### b)\n",
    "Letting $A \\in \\mathbb{R}^{m \\times n}$. We want to show $A^TA$ and $AA^T$ are symmetric, that is being it's own transpose, and that they are positive semi-definite. Using the simple identity of $(AB)^T = B^TA^T$ and $(A^T)^T = A$ it is easy to show:\n",
    "$$\n",
    "(A^TA)^T = (A)^T(A^T)^T = A^TA\n",
    "$$\n",
    "$$\n",
    "(AA^T)^T = (A^T)^T(A)^T= AA^T\n",
    "$$\n",
    "\n",
    "A square matrix $M \\in \\mathbb{R}^{k \\times k}$ is positive semi-definite if $\\mathbf{z}^T M \\mathbf{z} \\geq 0$ for all $\\mathbf{z} \\in \\mathbb{R}^k$\n",
    "\n",
    "Using the fact that $\\mathbf{z}^T\\mathbf{z} = ||\\mathbf{z}||^2$, the property of the norm $||\\cdot|| \\geq 0$, and letting $\\mathbf{x} \\in \\mathbb{R}^n$ and $\\mathbf{y} \\in \\mathbb{R}^m$ we have:\n",
    "\n",
    "$$\n",
    "\\mathbf{x}^TA^TA\\mathbf{x} = \\mathbf{x}^T A^T (\\mathbf{x}^T A^T)^T = ||\\mathbf{x}^T A^T||^2 \\geq 0\n",
    "$$\n",
    "$$\n",
    "\\mathbf{y}^T AA^T\\mathbf{y} = \\mathbf{y}^T A (\\mathbf{y}^T A)^T = ||\\mathbf{y}^T A||^2 \\geq 0\n",
    "$$\n",
    "\n",
    "Note the difference in dimension of $AA^T \\in \\mathbb{R}^{m \\times m}$ and $A^TA \\in \\mathbb{R}^{n \\times n}$. We know the rank of a matrix-product is lower or equal to the rank of that of the smallest product. Given that A has full rank ( $rank(A) = m < n$ ), it follows that $rank(A^TA) = rank(AA^T) = m$.\n",
    "\n",
    "$AA^T$ is therefore invertible, since $dim(AA^T) = rank(AA^T) = m$, but $A^TA$ is not, as $dim(A^TA) = n > rank(A^TA) = m$\n",
    "\n",
    "\n",
    "#### c)\n",
    "We have $\\mathcal{L}(\\mathbf{x},\\mathbf{\\lambda}) = \\mathbf{x}^T\\mathbf{x} + \\mathbf{\\lambda}^T(A\\mathbf{x}-\\mathbf{y}) = ||\\mathbf{x}||^2 + \\langle  \\;\\mathbf{\\lambda}^T, (A\\mathbf{x}-\\mathbf{y})\\; \\rangle$, where $\\langle  \\; \\cdot \\; \\rangle$ denotes the euclidean inner product.\n",
    "\n",
    "\n",
    "We wish to solve the system of linear equations:\n",
    "$$\\nabla_x \\mathcal{L}(\\mathbf{x},\\mathbf{\\lambda}) = 0 = \\nabla_{\\lambda} \\mathcal{L}(\\mathbf{x},\\mathbf{\\lambda})$$\n",
    "$$\n",
    "\\nabla_x \\mathcal{L}(\\mathbf{x},\\mathbf{\\lambda}) = 2\\mathbf{x} + [\\{\\sum_{j=1}^{m} a_{ji}\\lambda_j  \\}_{i=1}^{n}]^T = 2\\mathbf{x} + A^T\\mathbf{\\lambda}\n",
    "\\implies \\mathbf{x} = -\\frac{1}{2} A^T\\mathbf{\\lambda}\n",
    "$$\n",
    "$$\n",
    "\\nabla_{\\lambda} \\mathcal{L}(\\mathbf{x},\\mathbf{\\lambda}) = A\\mathbf{x}-\\mathbf{y}\n",
    "\\implies \\mathbf{x} = A^{-1}\\mathbf{y}\n",
    "$$\n",
    "Substituting this into our first equation we get:\n",
    "$$\n",
    "2 \\cdot (A^{-1}\\mathbf{y}) = -A^T\\mathbf{\\lambda} \\implies \\mathbf{\\lambda} = -2 \\cdot A^{-T}A^{-1}\\mathbf{y} = -2\\cdot (AA^T)^{-1}\n",
    "$$\n",
    "$$\n",
    "\\implies \\mathbf{x} = \\frac{1}{2} 2 \\cdot A^T(AA^T)^{-1}\\mathbf{y}\n",
    "$$\n",
    "\n",
    "Which is what we wanted to show.\n",
    "\n",
    "\n",
    "\n",
    "#### d)\n",
    "Letting $A^T = QR$, where $Q \\in \\mathbb{R}^{n \\times m}$ is orthogonal and $R \\in \\mathbb{R}^{m \\times m}$ is upper triangular and using what we learned in 1c), the fact that $Q$ is orthogonal, and the identity $(AB)^{-1} = \n",
    "B^{-1}A^{-1}$:\n",
    "\n",
    "$$\n",
    "x_{min} = A^T(AA^T)^{-1}\\mathbf{y}\n",
    "= QR(R^TQ^TQR)^{-1}\\mathbf{y}\n",
    "= QR(R^TR)^{-1}\\mathbf{y}\n",
    "= QRR^{-1}R^{-T}\\mathbf{y}\n",
    "= QR^{-T}\\mathbf{y}\n",
    "$$\n",
    "\n",
    "\n",
    "We wish to write a program that calculates the QR-decomposition for us, so we don't have to do it by hand, as it might be unfeasible for large systems (such as in this project). One could use Gram-Schmidt to find $Q$, but this method is numerically unstable. We will therefore implement the more stable, *Modified Gram-Schmidt*."
   ]
  },
  {
   "cell_type": "code",
   "execution_count": 60,
   "metadata": {},
   "outputs": [],
   "source": [
    "# Task 1d)\n",
    "# (truncated) QR decomposition using Modified Gram-Schmidt\n",
    "import numpy as np\n",
    "\n",
    "def modified_gram_schmidt(A):\n",
    "    '''\n",
    "    Calculates an orthonormal basis of A\n",
    "    \n",
    "    Input:\n",
    "        A: wide matrix, mxn, m<n\n",
    "    Output:\n",
    "        Q: matrix with columns equal to an orthonormal basis of A\n",
    "    '''\n",
    "    \n",
    "    Q = np.zeros(A.shape)\n",
    "    for j in range(min(A.shape)):                 # m<n, but function is general\n",
    "        q = A[:,j]                                # q is j'th column of A\n",
    "        for i in range(j):\n",
    "            q = q - np.vdot(q, Q[:,i]) * Q[:,i]   # MGS algorithm\n",
    "        Q[:,j] = q/np.linalg.norm(q, ord=2)       # Normalize so ||q|| = 1\n",
    "    return Q\n",
    "\n",
    "def QR_modified_gram_schmidt(A):\n",
    "    '''\n",
    "    Calculates the (truncated) QR-decomposition of a matrix, A using Modified Gram-Schmidt method\n",
    "    \n",
    "    Input:\n",
    "        A, matrix, mxn, m<n\n",
    "    Output:\n",
    "        Q, orthogonal matrix, truncated, mxm\n",
    "        R, upper-triangular matrix, nxn\n",
    "    '''\n",
    "    \n",
    "    Q = modified_gram_schmidt(A)\n",
    "    m,n = A.shape                      # m,n is shape of A\n",
    "    R = np.zeros([n,n])\n",
    "    for j in (range(n)):\n",
    "        for i in range(j,n):\n",
    "            R[j, i] = A[:, i] @ Q[:, j]\n",
    "            \n",
    "    return Q, R"
   ]
  },
  {
   "cell_type": "markdown",
   "metadata": {},
   "source": [
    "#### e)\n",
    "\n",
    "We want to calculate $\\mathbf{x}_{min} = QR^{-T}\\mathbf{y}$ without having to find $R^{-T}$, as finding inverses can be tricky and inefficient. Using the fact that $Q^{-1} = Q^T$ and letting $\\mathbf{u} = Q^T\\mathbf{x}_{min}$ we have:\n",
    "$$\n",
    "\\mathbf{x}_{min} = QR^{-T}\\mathbf{y} \\implies \\mathbf{y} = R^T Q^T \\mathbf{x}_{min} = R^T \\mathbf{u}\n",
    "$$\n",
    "Reducing our problem to solving a matrix equation with a triangular matrix and a standard matrix multiplication:\n",
    "$$\n",
    "R^T\\mathbf{u} = \\mathbf{y} \\\\\n",
    "\\mathbf{x}_{min} = Q\\mathbf{u}\n",
    "$$\n",
    "where $R^T$ is a lower-triangular matrix."
   ]
  },
  {
   "cell_type": "code",
   "execution_count": 61,
   "metadata": {},
   "outputs": [],
   "source": [
    "def minimal_norm_QR(Q,R,b):\n",
    "    '''\n",
    "    Calculates x such that QRx = b for an orthonormal matrix Q and lower triangular matrix R\n",
    "    Input:\n",
    "        Q: Orthonormal matrix\n",
    "        R: Lower-triangular matrix, NB! No elements on the diagonal can be zero\n",
    "        b: RHS of matrix equation\n",
    "    Output: \n",
    "        x: vec, such that QRx = b\n",
    "    '''\n",
    "    \n",
    "    n = len(b)                          # Dimension of b\n",
    "    u = np.zeros(n)                     # Allocating memory for solution vector\n",
    "    \n",
    "    for i in range(0,n):                # Forward substitution from exercise 1\n",
    "        u[i] = b[i]/R.T[i,i]              \n",
    "        for j in range(0,i):\n",
    "            u[i] -= R.T[i,j]*u[j]/R.T[i,i]\n",
    "    x = Q @ u\n",
    "    return x"
   ]
  },
  {
   "cell_type": "code",
   "execution_count": 62,
   "metadata": {},
   "outputs": [],
   "source": [
    "# Handed out code used to generate matrices\n",
    "import scipy as sp\n",
    "from scipy import linalg\n",
    "def generate_A(m,n):\n",
    "    \"\"\"\n",
    "    Generates m times n with correlated columns.\n",
    "    Input:\n",
    "        m: int, first dimension of A\n",
    "        n: int, second dimension of A\n",
    "    output:\n",
    "        A: (m,n) array\n",
    "    \"\"\"\n",
    "    \n",
    "    cov_eigvecs = np.random.uniform(-1.0,1.0,(m,m))\n",
    "    cov = cov_eigvecs.T @ cov_eigvecs\n",
    "    v = np.sqrt(np.diag(cov))\n",
    "    outer_v = np.outer(v, v)\n",
    "    corr = cov / outer_v\n",
    "    corr[cov == 0] = 0\n",
    "    chol = sp.linalg.cholesky(corr, lower=True) \n",
    "    A = np.random.normal(0, 1.0,(m,n))\n",
    "    A = np.dot(chol, A)\n",
    "    return A"
   ]
  },
  {
   "cell_type": "code",
   "execution_count": 63,
   "metadata": {},
   "outputs": [
    {
     "data": {
      "text/plain": [
       "4.775249788392737e-15"
      ]
     },
     "execution_count": 63,
     "metadata": {},
     "output_type": "execute_result"
    }
   ],
   "source": [
    "# Test code for system in a)\n",
    "m,n = 2,3\n",
    "A = generate_A(m,n)                     # Generates random matrix\n",
    "Q,R = QR_modified_gram_schmidt(A.T)     # Q and R\n",
    "y = np.random.random(m)                 # Generate random y for RHS\n",
    "x = minimal_norm_QR(Q,R,y)   # Solution using our algorithm\n",
    "np.linalg.norm(A@x - y)                 # Difference (small is good)"
   ]
  },
  {
   "cell_type": "markdown",
   "metadata": {},
   "source": [
    "#### f)"
   ]
  },
  {
   "cell_type": "code",
   "execution_count": 64,
   "metadata": {},
   "outputs": [
    {
     "name": "stdout",
     "output_type": "stream",
     "text": [
      "(4048, 100)\n",
      "(1024, 100)\n"
     ]
    }
   ],
   "source": [
    "# Code from supplementery\n",
    "m,n = 1024, 4048\n",
    "A = generate_A(m,n)\n",
    "N = 100 # Number of test data we want to generate\n",
    "\n",
    "# Generate solutions X columnwise, X[:,i] to access i-th vector\n",
    "X = np.random.normal(0.0,1.0,(A.shape[1],N))\n",
    "\n",
    "# Generate left hand sides Y columnwise Y[:,i] to access lhs\n",
    "Y = np.dot(A,X)\n",
    "\n",
    "# Doublecheck shapes\n",
    "print(X.shape) # Expect (n,N)\n",
    "print(Y.shape) # Expect (m,N)"
   ]
  },
  {
   "cell_type": "code",
   "execution_count": 65,
   "metadata": {},
   "outputs": [],
   "source": [
    "#%%timeit -r 1 -n 1\n",
    "# Numpy method, np.linalg.solve\n",
    "AAT = A @ A.T\n",
    "np_solutions = np.zeros(X.shape)"
   ]
  },
  {
   "cell_type": "code",
   "execution_count": 66,
   "metadata": {},
   "outputs": [
    {
     "name": "stdout",
     "output_type": "stream",
     "text": [
      "549.7570256834692\n"
     ]
    }
   ],
   "source": [
    "#%%timeit -r 1 -n 1\n",
    "# Numpy method, np.linalg.solve, timed independently from pre-calculations\n",
    "for i in range(N):\n",
    "    z = np.linalg.solve(AAT,Y[:,i])\n",
    "    np_solutions[:,i] = A.T @ z\n",
    "print(np.linalg.norm(X - np_solutions))     # The total difference between calculated x and correct x"
   ]
  },
  {
   "cell_type": "code",
   "execution_count": 67,
   "metadata": {},
   "outputs": [],
   "source": [
    "#%%timeit -r 1 -n 1\n",
    "# Our QR method\n",
    "Q,R = QR_modified_gram_schmidt(A.T)     # Q and R\n",
    "QR_solutions = np.zeros(X.shape)"
   ]
  },
  {
   "cell_type": "code",
   "execution_count": 68,
   "metadata": {},
   "outputs": [
    {
     "name": "stdout",
     "output_type": "stream",
     "text": [
      "549.7570256834692\n"
     ]
    }
   ],
   "source": [
    "#%%timeit -r 1 -n 1\n",
    "# Our QR method, timed independently from pre-calculations\n",
    "for i in range(N):\n",
    "    QR_solutions[:,i] = minimal_norm_QR(Q,R,Y[:,i])   # Solution using our algorithm\n",
    "print(np.linalg.norm(QR_solutions-X))"
   ]
  },
  {
   "cell_type": "markdown",
   "metadata": {},
   "source": [
    "As we can see, there doesn't appear to be any difference in numerical accuracy. The numpy solution is however a lot faster. The precalculations for our QR method actually took longer than the iterations themselves, but both were *a lot* slower than the combined steps of the linalg.solve method. Not that surprising as np.linalg is very optimized."
   ]
  },
  {
   "cell_type": "markdown",
   "metadata": {},
   "source": [
    "### Task 2\n",
    "\n",
    "#### a)\n",
    "We have $T(\\mathbf{x}) = ||A\\mathbf{x}-\\mathbf{y}||^2 + \\mu ||\\mathbf{x}||^2 = ||A\\mathbf{x}||^2 - 2\\langle  \\; A\\mathbf{x},\\mathbf{y} \\; \\rangle + ||\\mathbf{y}||^2 + \\mu ||\\mathbf{x}||^2$\n",
    "\n",
    "$$\n",
    "\\implies \\nabla_{\\mathbf{x}} T(\\mathbf{x}) = 2A^TA\\mathbf{x} - 2A^T\\mathbf{y} + 2\\mu \\mathbf{x} = 0\n",
    "$$\n",
    "\n",
    "$$\n",
    "\\implies A^TA\\mathbf{x_r} + \\mu \\mathbf{x_r} = A^T\\mathbf{y}\n",
    "$$\n",
    "$$\n",
    "\\implies (A^TA + \\mu I)\\mathbf{x_r} = A^T\\mathbf{y}\n",
    "$$\n",
    "\n",
    "\n",
    "$A^TA + \\mu I$ is clearly SPD, as $A^TA$ is SPD, as shown in 1b), and $\\mu I$ is diagonal, and trivially SPD for all $0 < \\mu \\in \\mathbb{R}$.\n",
    "\n",
    "#### b)\n",
    "Letting $A = U\\Sigma V^T$ with $U,V$ being orthogonal, satisfying $U^{-1} = U^T$ and using $(A^TA + \\mu I)\\mathbf{x}_r  = A^T\\mathbf{y}$ which we derived in a):\n",
    "\n",
    "$$\n",
    "(A^TA + \\mu I)\\mathbf{x}_r  = A^T\\mathbf{y} \\\\\n",
    "\\implies (V\\Sigma^T U^T U\\Sigma V^T + \\mu I)\\mathbf{x}_r = V\\Sigma^T U^T \\mathbf{y}\n",
    "$$\n",
    "\n",
    "Using the fact that $\\mu I$ is diagonal and $V$ being orthogonal, we have $\\mu I = V \\mu I V^T$, which in combination with the identity for diagonal matricies $D_1, D_2$, $VD_1V^T + VD_2V^T = V(D_1+D_2)V^T$ simplifies our expression:\n",
    "\n",
    "$$\n",
    "(V\\Sigma^T \\Sigma V^T + V\\mu I V^T)\\mathbf{x}_r = V\\Sigma^T U^T \\mathbf{y} \\\\\n",
    "\\implies V(\\Sigma^T \\Sigma + \\mu I )V^T\\mathbf{x}_r = V\\Sigma^T U^T \\mathbf{y}\n",
    "$$\n",
    "\n",
    "$\\Sigma^T \\Sigma + \\mu I$ is diagonal and SPD, and therefore invertible $\\implies \\mathbf{x}_r = (V(\\Sigma^T \\Sigma + \\mu I )V^T)^{-1} V\\Sigma^T U^T \\mathbf{y} =  V(\\Sigma^T \\Sigma + \\mu I )^{-1}V^T V\\Sigma^T U^T \\mathbf{y}$ \\\n",
    "Letting $(\\Sigma^T \\Sigma + \\mu I )^{-1}\\Sigma^T = D$ be a diagonal matrix, which is only possible if $\\Sigma$ is square, we have\n",
    "\n",
    "$$\n",
    "\\mathbf{x}_r = VDU^T\\mathbf{y}\n",
    "$$\n",
    "Which is what we wanted to show.\n",
    "\n",
    "#### c)\n",
    "Our code will be a lot faster if we calculate $D$ for hand, instead of having to calculate an inversion every iteration, which can be costly as mentioned previously. Thankfully it is very easy, since it $(\\Sigma^T \\Sigma + \\mu I )^{-1}$ is diagonal. $\\Sigma^T \\Sigma = diag_{n\\times n}(\\sigma_1^2, \\sigma_2^2,\\ldots , \\sigma_m^2, 0, \\ldots , 0$), and $\\mu I = diag_{n\\times n}(\\mu)$. The inverse of their sum is trivially $diag_{n\\times n}(\\{\\sigma_i^2 + \\mu\\}_{i=1}^n)^{-1} = diag_{n\\times n}(\\{\\frac{1}{\\sigma_i^2 + \\mu}\\}_{i=1}^n)$, with $\\sigma_i = 0$ for $m<i\\leq n$. \\\n",
    "Multiplying with the $n\\times m$ thin, rectangular matrix $\\Sigma^T = \\begin{pmatrix} \\Sigma' \\\\ \\mathbf{0} \\end{pmatrix}$, with $\\Sigma' = diag_{m\\times m}(\\{\\sigma_i\\}_{i=1}^m)$, and $\\mathbf{0}$ being a $n-m \\times m$ zero-matrix. \\\n",
    "The final product is then $D = diag_{n\\times m}\\{\\frac{\\sigma_i}{\\sigma_i^2 + \\mu}\\}_{i=1}^n))$, again with $\\sigma_i = 0$ for $m<i\\leq n$"
   ]
  },
  {
   "cell_type": "code",
   "execution_count": 69,
   "metadata": {},
   "outputs": [],
   "source": [
    "# Code for task c)\n",
    "def Tikhonov_solveSVD(U,S,Vt,mu,y):        # add y vector as argument, assume mistake in task file\n",
    "    '''\n",
    "    Calculates the solution to the Tikhonov problem given SVD of matrix\n",
    "    Input:\n",
    "        U: mxm matrix, orthonormal\n",
    "        S: mxn matrix, diagonal, singular values of A\n",
    "        Vt: nxn matrix, orthonormal, transpose of V\n",
    "        mu: scalar, regularization parameter\n",
    "        y: mx1 vector, RHS of equation\n",
    "    output:\n",
    "        x_r: nx1 vector, solution to Tikhonov problem\n",
    "    '''\n",
    "    m = U.shape[0]             # U is mxm\n",
    "    n = Vt.shape[0]             # V is nxn\n",
    "     \n",
    "    D = np.diag(S/(S**2+mu))   # This is the upper m rows of D\n",
    "    D = D + np.zeros([n,m])    # Add the zero matrix for correct dimention\n",
    "    \n",
    "    x_r = Vt.T @ D @ U.T @ y   # Equation from b)\n",
    "    return x_r"
   ]
  },
  {
   "cell_type": "code",
   "execution_count": 70,
   "metadata": {},
   "outputs": [
    {
     "name": "stdout",
     "output_type": "stream",
     "text": [
      "(4048, 100)\n",
      "(1024, 100)\n"
     ]
    }
   ],
   "source": [
    "# Generating data for testing our system\n",
    "\n",
    "m,n = 1024,4048\n",
    "A = generate_A(m,n)\n",
    "\n",
    "N = 100 # Number of test data we want to generate\n",
    "\n",
    "# Generate solutions X columnwise, X[:,i] to access i-th vector\n",
    "X = np.random.normal(0.0,1.0,(A.shape[1],N))\n",
    "\n",
    "# Generate left hand sides Y columnwise Y[:,i] to access lhs\n",
    "Y = np.dot(A,X)\n",
    "\n",
    "y = Y[:,0]\n",
    "x = X[:,0]\n",
    "\n",
    "# Doublecheck shapes\n",
    "print(X.shape) # Expect (n,N)\n",
    "print(Y.shape) # Expect (m,N)"
   ]
  },
  {
   "cell_type": "code",
   "execution_count": 71,
   "metadata": {},
   "outputs": [
    {
     "name": "stdout",
     "output_type": "stream",
     "text": [
      "549.3855486594819\n"
     ]
    }
   ],
   "source": [
    "#%%timeit -r 1 -n 1\n",
    "\n",
    "# Using SVD method\n",
    "\n",
    "N = 100\n",
    "mu_SVD = np.logspace(5,-6,num = N)\n",
    "error_SVD = np.zeros(N)\n",
    "\n",
    "U,S,Vt = np.linalg.svd(A, full_matrices=False)\n",
    "\n",
    "for i in range(N):\n",
    "    x_r = Tikhonov_solveSVD(U,S,Vt,mu_SVD[i],y)\n",
    "    error_SVD[i] = np.linalg.norm(x_r - x)\n",
    "print(np.linalg.norm(error_SVD))"
   ]
  },
  {
   "cell_type": "code",
   "execution_count": 72,
   "metadata": {},
   "outputs": [
    {
     "name": "stdout",
     "output_type": "stream",
     "text": [
      "549.3855474043451\n"
     ]
    }
   ],
   "source": [
    "#%%timeit -r 1 -n 1\n",
    "\n",
    "# Using numpy general solver\n",
    "\n",
    "N = 100 \n",
    "mu_numpy = np.logspace(5,-6, num=N)\n",
    "error_np = np.zeros(N)\n",
    "\n",
    "ATA = A.T @ A\n",
    "ATy = A.T @ y\n",
    "I = np.eye(max(A.shape))   # nxn identity matrix (n>m)\n",
    "\n",
    "for i in range(N):\n",
    "    x_r = np.linalg.solve(ATA + mu_numpy[i]*I, ATy)\n",
    "    error_np[i] = np.linalg.norm(x_r - x)\n",
    "print(np.linalg.norm(error_np))"
   ]
  },
  {
   "cell_type": "code",
   "execution_count": 73,
   "metadata": {},
   "outputs": [
    {
     "data": {
      "image/png": "[encoded data removed]",
      "text/plain": [
       "<Figure size 1008x576 with 1 Axes>"
      ]
     },
     "metadata": {
      "needs_background": "light"
     },
     "output_type": "display_data"
    }
   ],
   "source": [
    "# Plotting error for both methods\n",
    "\n",
    "import matplotlib.pyplot as plt\n",
    "\n",
    "f = plt.figure()\n",
    "f.set_figwidth(14)\n",
    "f.set_figheight(8)\n",
    "\n",
    "plt.loglog(mu_SVD, error_SVD,'.-',label=\"SVD\")\n",
    "plt.loglog(mu_numpy, error_np,'-',label=\"NumPy\")\n",
    "plt.legend(loc='upper center')\n",
    "plt.grid()\n",
    "plt.xlim(max(mu_SVD), min(mu_SVD))\n",
    "plt.xlabel(r'value of $\\mu$')\n",
    "plt.ylabel('Error')\n",
    "plt.title(r'Error as a function of $\\mu$')\n",
    "plt.show()"
   ]
  },
  {
   "cell_type": "markdown",
   "metadata": {},
   "source": [
    "As we can see, a smaller value of $\\mu$ seems to be better for our problem, for both the SVD-technique and the numpy-technique. The two techniques seem to have an equal relation to $\\mu$, as we can see the plots are practically identical, which is not very surprising considering they are solving the same problem. \\\n",
    "Timewise it seems our code actually beats numpy! I would expect this timedifference to grow as a function of the system-size. Very cool!"
   ]
  },
  {
   "cell_type": "markdown",
   "metadata": {},
   "source": [
    "### Task 3"
   ]
  },
  {
   "cell_type": "markdown",
   "metadata": {},
   "source": [
    "#### a)\n",
    "Letting $B = I-WW^T$, where $I$ is the identity, and $W$ has pairwise orthogonal coloumns, i.e. $||W|| = 1$, it can be shown that $B = B^n$ for all $n \\in \\mathbb{N}$. We will only show for the special case of n=2, but if it holds for n=2, it must hold for all $n \\in \\mathbb{N}$, as you can always just multiply with $B$ one more time.\n",
    "\n",
    "$$\n",
    "B^2 = (I-WW^T)(I-WW^T) = I-WW^T-WW^T+WW^TWW^T\n",
    "$$\n",
    "Using $W^TW = ||W||^2 = 1$ we get $B^2 = I-2WW^T + WW^T = B$ \\\n",
    "which is what we wanted to show.\n",
    "\n",
    "B is clearly symmetric, as it a difference of symmetric matrices ($(WW^T)^T = WW^T$).\n",
    "\n",
    "Using the definition of eigenvalues;\n",
    "$$\n",
    "B\\mathbf{x} = \\lambda \\mathbf{x} = B^2\\mathbf{x}\\\\\n",
    "B(B\\mathbf{x}) = B(\\lambda \\mathbf{x}) = \\lambda(\\lambda \\mathbf{x}) = \\lambda^2\\mathbf{x} = \\lambda\\mathbf{x} \\\\\n",
    "\\implies \\lambda^2 = \\lambda \\implies \\lambda = \\{0,1\\}\n",
    "$$\n",
    "\n",
    "$\\langle  \\; A\\mathbf{x},\\mathbf{x} \\; \\rangle = \\langle  \\; \\lambda \\mathbf{x},\\mathbf{x} \\; \\rangle = \\lambda \\mathbf{x}^T\\mathbf{x} = \\lambda \\cdot ||\\mathbf{x}||^2 \\geq 0$ for $\\lambda \\in \\{0,1\\}$, \\\n",
    "making $B$ SPD.\n",
    "\n",
    "### Tikhonov approach\n",
    "#### c)\n",
    "##### (1) \n",
    "Using the same approach as in 2a) with $T(\\mathbf{x}) = ||A\\mathbf{x}-\\mathbf{y}||^2 + \\mu_0 ||\\mathbf{x}||^2$\n",
    "$$\n",
    "\\nabla_{\\mathbf{x}} T(\\mathbf{x}) = A^T(A\\mathbf{x}-\\mathbf{y}) + 2\\mu_0 \\mathbf{x}^TB^TB = 0 \\\\\n",
    "\\implies A^TA\\mathbf{x} + \\mu \\mathbf{x}^TB^TB = A^T\\mathbf{y}\n",
    "$$\n",
    "Where $\\mu = 2\\mu_0$ Using $\\mathbf{x}^TA = A\\mathbf{x}$ we get\n",
    "\n",
    "$$\n",
    "(A^TA + \\mu B^TB)\\mathbf{x} = A^T\\mathbf{y}\n",
    "$$\n",
    "\n",
    "For our special system, this becomes\n",
    "$$\n",
    "B =\n",
    "\\left(\\begin{array}{cc} \n",
    "B_0 & 0\\\\\n",
    "0 & B_1\n",
    "\\end{array}\\right)\n",
    "$$\n",
    "\n",
    "$$\n",
    "A = \n",
    "\\left(\\begin{array}{c} \n",
    "I & I\n",
    "\\end{array}\\right)\n",
    "$$\n",
    "\n",
    "$$\n",
    "\\mathbf{x} =\n",
    "\\left(\\begin{array}{cc} \n",
    "\\mathbf{u} \\\\\n",
    "\\mathbf{v}\n",
    "\\end{array}\\right)\n",
    "$$\n",
    "\n",
    "Substituting into equation from $(1)$ and using $B = B^2$, we get\n",
    "$$\n",
    "(A^TA + \\mu B^TB)\\mathbf{x} = A^T\\mathbf{y}\n",
    "$$\n",
    "\n",
    "$$\n",
    "\\left(\\begin{array}{c} \n",
    "\\left(\\begin{array}{c} \n",
    "I \\\\\n",
    "I\n",
    "\\end{array}\\right)\n",
    "\\left(\\begin{array}{c} \n",
    "I & I\n",
    "\\end{array}\\right)\n",
    "+\\mu\n",
    "\\left(\\begin{array}{cc} \n",
    "B_0 & 0\\\\\n",
    "0 & B_1\n",
    "\\end{array}\\right)\n",
    "\\left(\\begin{array}{cc} \n",
    "B_0 & 0\\\\\n",
    "0 & B_1\n",
    "\\end{array}\\right)\n",
    "\\end{array}\\right)\n",
    "\\left(\\begin{array}{c} \n",
    "\\mathbf{u} \\\\\n",
    "\\mathbf{v}\n",
    "\\end{array}\\right)\n",
    "=\n",
    "\\left(\\begin{array}{c} \n",
    "I \\\\\n",
    "I\n",
    "\\end{array}\\right)\n",
    "\\mathbf{y}\n",
    "$$\n",
    "\n",
    "<br>\n",
    "\n",
    "$$\n",
    "\\left(\\begin{array}{cc} \n",
    "\\mu B_0+I & I\\\\\n",
    "I & \\mu B_1+I\n",
    "\\end{array}\\right)\n",
    "\\left(\\begin{array}{c} \n",
    "\\mathbf{u} \\\\\n",
    "\\mathbf{v}\n",
    "\\end{array}\\right)\n",
    "=\n",
    "\\left(\\begin{array}{c} \n",
    "\\mathbf{y} \\\\\n",
    "\\mathbf{y}\n",
    "\\end{array}\\right)\n",
    "$$\n",
    "With $B_0 = I-W_0W_0^T$ and $B_1 = I-W_1W_1^T$ we get\n",
    "\n",
    "$$\n",
    "\\left(\\begin{array}{cc} \n",
    "I +\\mu (I-W_0W_0^T) & I\\\\\n",
    "I & I+\\mu (I-W_1W_1^T)\n",
    "\\end{array}\\right)\n",
    "\\left(\\begin{array}{c} \n",
    "\\mathbf{u} \\\\\n",
    "\\mathbf{v}\n",
    "\\end{array}\\right)\n",
    "=\n",
    "\\left(\\begin{array}{c} \n",
    "\\mathbf{y} \\\\\n",
    "\\mathbf{y}\n",
    "\\end{array}\\right)\n",
    "$$\n",
    "\n",
    "##### (2)\n",
    "\n",
    "For readability, we will define $a_i := I+\\mu(I-W_iW_i^T)$\n",
    "$$\n",
    "\\left(\\begin{array}{cc} \n",
    "a_0 & I\\\\\n",
    "I & a_1\n",
    "\\end{array}\\right)\n",
    "\\left(\\begin{array}{c} \n",
    "\\mathbf{u} \\\\\n",
    "\\mathbf{v}\n",
    "\\end{array}\\right)\n",
    "=\n",
    "\\left(\\begin{array}{c} \n",
    "\\mathbf{y} \\\\\n",
    "\\mathbf{y}\n",
    "\\end{array}\\right)\n",
    "$$\n",
    "Which gives the two equations\n",
    "$$\n",
    "a_0 \\mathbf{u} + I \\mathbf{v} = y \\\\\n",
    "I \\mathbf{u} + a_1 \\mathbf{v} = y\n",
    "$$\n",
    "Which can be rewritten to the form\n",
    "$$\n",
    "(I-a_1 a_0)\\mathbf{u}=(I-a_1)\\mathbf{y} \\\\\n",
    "(I-a_0 a_1)\\mathbf{v}=(I-a_0)\\mathbf{y}\n",
    "$$\n",
    "\n",
    "We can define\n",
    "$$\n",
    "C_0 := (I-a_1 a_0)  \\\\\n",
    "\\mathbf{d}_0 := (I-a_1)\\mathbf{y}\n",
    "$$\n",
    "and\n",
    "$$\n",
    "C_1 := (I-a_0 a_1) \\\\\n",
    "\\mathbf{d}_1 := (I-a_0)\\mathbf{y}\n",
    "$$\n",
    "Making $C_0 \\mathbf{u} = \\mathbf{d_0}$ and $C_1 \\mathbf{v} = \\mathbf{d_1} $\n",
    "##### (3)"
   ]
  },
  {
   "cell_type": "markdown",
   "metadata": {},
   "source": [
    "We will try to solve the systems we deduced in (2).\n",
    "I will utilize np.linalg.solve because it was a lot faster as we saw in task 1, without a loss in numerical accuracy. I see no numerical disadvantage to this. It will be both time efficient for the computer, and for me. The numpy libraries are brilliant, and have been optimized for decades to be as efficient and cheap as possible, using the C compiler."
   ]
  },
  {
   "cell_type": "code",
   "execution_count": 74,
   "metadata": {},
   "outputs": [],
   "source": [
    "def uv_decomposition(y,W0,W1,mu=0.1):\n",
    "    '''\n",
    "    Calculates the uv-decomposition of y using the given W0 and W1 matrices using Tikohnov regularization.\n",
    "    Input:\n",
    "        y: array with image data\n",
    "        W0: Pre-calculated basis of 0-numbers\n",
    "        W1: Pre-calculated basis of 1-numbers\n",
    "        mu: Regularization parameter\n",
    "    Output:\n",
    "        u: array with images of 0-numbers\n",
    "        v: array with images of 1-numbers\n",
    "    '''\n",
    "    I = np.eye((W0 @ W0.T).shape[0])          # Identity matrix\n",
    "    \n",
    "    alpha0 = I + mu*(I-(W0 @ W0.T))\n",
    "    alpha1 = I + mu*(I-(W1 @ W1.T))\n",
    "    \n",
    "    C0 = I-(alpha1@alpha0)\n",
    "    C1 = I-(alpha0@alpha1)\n",
    "    \n",
    "    u = []\n",
    "    v = []\n",
    "    \n",
    "    for i in range(len(y[0])):\n",
    "        d0 = (I-alpha1)@y[:,i]\n",
    "        d1 = (I-alpha0)@y[:,i]\n",
    "        \n",
    "        u.append(np.linalg.solve(C0,d0))       # Using np.linalg.solve because it is faster, as we tested in task 1\n",
    "        v.append(np.linalg.solve(C1,d1))   \n",
    "    return u, v"
   ]
  },
  {
   "cell_type": "code",
   "execution_count": 75,
   "metadata": {},
   "outputs": [],
   "source": [
    "# Loading data for testing\n",
    "Mixes = np.load('Data/mixed.npy')\n",
    "W0 = np.load('Data/W0.npy')\n",
    "W1 = np.load('Data/W1.npy')"
   ]
  },
  {
   "cell_type": "code",
   "execution_count": 76,
   "metadata": {},
   "outputs": [
    {
     "data": {
      "image/png": "[encoded data removed]",
      "text/plain": [
       "<Figure size 432x288 with 1 Axes>"
      ]
     },
     "metadata": {
      "needs_background": "light"
     },
     "output_type": "display_data"
    },
    {
     "data": {
      "image/png": "[encoded data removed]",
      "text/plain": [
       "<Figure size 432x288 with 1 Axes>"
      ]
     },
     "metadata": {
      "needs_background": "light"
     },
     "output_type": "display_data"
    },
    {
     "data": {
      "image/png": "[encoded data removed]",
      "text/plain": [
       "<Figure size 432x288 with 1 Axes>"
      ]
     },
     "metadata": {
      "needs_background": "light"
     },
     "output_type": "display_data"
    }
   ],
   "source": [
    "# Testing our seperation algorithm\n",
    "u, v = uv_decomposition(Mixes, W0, W1)\n",
    "\n",
    "# Plot of original image\n",
    "plt.imshow(Mixes[:,1].reshape((28,28)), cmap = 'gray')\n",
    "plt.axis('off') \n",
    "plt.show()\n",
    "\n",
    "# Plot of our u vector\n",
    "plt.imshow(u[1].reshape((28,28)), cmap = 'gray')\n",
    "plt.axis('off') \n",
    "plt.show()\n",
    "\n",
    "# Plot of our v vector\n",
    "plt.imshow(v[1].reshape((28,28)), cmap = 'gray')\n",
    "plt.axis('off')\n",
    "plt.show()"
   ]
  },
  {
   "cell_type": "markdown",
   "metadata": {},
   "source": [
    "The images are definately not perfect, but there is still a clear distiction between the two images, and it is obvious that $\\mathbf{u}$ depicts the number zero, while $\\mathbf{v}$ depicts the number one. For experimentation, I will test other values of $\\mu$ to see if there will be less noise."
   ]
  },
  {
   "cell_type": "code",
   "execution_count": 77,
   "metadata": {},
   "outputs": [
    {
     "data": {
      "image/png": "[encoded data removed]",
      "text/plain": [
       "<Figure size 432x288 with 1 Axes>"
      ]
     },
     "metadata": {
      "needs_background": "light"
     },
     "output_type": "display_data"
    },
    {
     "data": {
      "image/png": "[encoded data removed]",
      "text/plain": [
       "<Figure size 432x288 with 1 Axes>"
      ]
     },
     "metadata": {
      "needs_background": "light"
     },
     "output_type": "display_data"
    },
    {
     "data": {
      "image/png": "[encoded data removed]",
      "text/plain": [
       "<Figure size 432x288 with 1 Axes>"
      ]
     },
     "metadata": {
      "needs_background": "light"
     },
     "output_type": "display_data"
    },
    {
     "data": {
      "image/png": "[encoded data removed]",
      "text/plain": [
       "<Figure size 432x288 with 1 Axes>"
      ]
     },
     "metadata": {
      "needs_background": "light"
     },
     "output_type": "display_data"
    },
    {
     "data": {
      "image/png": "[encoded data removed]",
      "text/plain": [
       "<Figure size 432x288 with 1 Axes>"
      ]
     },
     "metadata": {
      "needs_background": "light"
     },
     "output_type": "display_data"
    },
    {
     "data": {
      "image/png": "[encoded data removed]",
      "text/plain": [
       "<Figure size 432x288 with 1 Axes>"
      ]
     },
     "metadata": {
      "needs_background": "light"
     },
     "output_type": "display_data"
    },
    {
     "data": {
      "image/png": "[encoded data removed]",
      "text/plain": [
       "<Figure size 432x288 with 1 Axes>"
      ]
     },
     "metadata": {
      "needs_background": "light"
     },
     "output_type": "display_data"
    }
   ],
   "source": [
    "# Testing our seperation algorithm for different mu values\n",
    "\n",
    "for mu in [0.00001, 0.0001, 0.001, 0.01, 0.1, 1, 10]:\n",
    "    u, v = uv_decomposition(Mixes, W0, W1, mu = mu)\n",
    "    plt.imshow(v[1].reshape((28,28)), cmap = 'gray')\n",
    "    plt.axis('off')\n",
    "    plt.title(f\"mu = {mu}\")\n",
    "    plt.show()\n"
   ]
  },
  {
   "cell_type": "markdown",
   "metadata": {},
   "source": [
    "After having tried a lot of values of $\\mu$, none of them reduced the noise notacibly, except for $\\mu = 10$, but this also distorted the depiction. In conclusion it seems our algorithm worked fine, but could probably use some optimization for more complicated systems."
   ]
  },
  {
   "cell_type": "markdown",
   "metadata": {},
   "source": [
    "## Conclusion\n",
    "This project was immensly instructive, and it was really interesting to compare the effectiveness of our algorithms, and see that depending on the problem, one could write tailored code that is more efficient than just using a general solving library. It was a good motivation for future courses, and gave insight into why numerical mathematics is still an incredibly useful and intricate tool, even if we have things like numPy or Wolfram Alpha.\n",
    "\n",
    "I would also like to note that it was nice that the project was based on the corriculum, and it made the lectures much more interesting as well."
   ]
  }
 ],
 "metadata": {
  "kernelspec": {
   "display_name": "Python 3.8.3 ('base')",
   "language": "python",
   "name": "python3"
  },
  "language_info": {
   "codemirror_mode": {
    "name": "ipython",
    "version": 3
   },
   "file_extension": ".py",
   "mimetype": "text/x-python",
   "name": "python",
   "nbconvert_exporter": "python",
   "pygments_lexer": "ipython3",
   "version": "3.8.3"
  },
  "vscode": {
   "interpreter": {
    "hash": "d42615cc96274411238bcfd339f29e8892ec03b5dae3f11fc0f42dd77ba2dfe4"
   }
  }
 },
 "nbformat": 4,
 "nbformat_minor": 4
}
